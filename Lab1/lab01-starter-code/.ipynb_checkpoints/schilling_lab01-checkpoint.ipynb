{
 "cells": [
  {
   "cell_type": "markdown",
   "metadata": {},
   "source": [
    "Title\n",
    "Name\n",
    "Introduction"
   ]
  },
  {
   "cell_type": "code",
   "execution_count": 70,
   "metadata": {},
   "outputs": [],
   "source": [
    "from sorting import insertion_sort\n",
    "import matplotlib.pyplot as plt\n",
    "import numpy as np\n",
    "import random as rand\n",
    "import time"
   ]
  },
  {
   "cell_type": "code",
   "execution_count": 71,
   "metadata": {},
   "outputs": [],
   "source": [
    "list100 = []\n",
    "for i in range(0,100):\n",
    "    list100.append(random.random())\n",
    "list1000 = []\n",
    "for i in range(0,1000):\n",
    "    list1000.append(random.random())\n",
    "list10000 = []\n",
    "for i in range(0,10000):\n",
    "    list10000.append(random.random())\n",
    "list100000 = []\n",
    "for i in range(0,100000):\n",
    "    list100000.append(random.random())"
   ]
  },
  {
   "cell_type": "code",
   "execution_count": 72,
   "metadata": {},
   "outputs": [
    {
     "name": "stderr",
     "output_type": "stream",
     "text": [
      "C:\\Users\\schillingdl\\AppData\\Local\\Continuum\\anaconda3\\lib\\site-packages\\ipykernel_launcher.py:8: DeprecationWarning: time.clock has been deprecated in Python 3.3 and will be removed from Python 3.8: use time.perf_counter or time.process_time instead\n",
      "  \n",
      "C:\\Users\\schillingdl\\AppData\\Local\\Continuum\\anaconda3\\lib\\site-packages\\ipykernel_launcher.py:10: DeprecationWarning: time.clock has been deprecated in Python 3.3 and will be removed from Python 3.8: use time.perf_counter or time.process_time instead\n",
      "  # Remove the CWD from sys.path while we load stuff.\n",
      "C:\\Users\\schillingdl\\AppData\\Local\\Continuum\\anaconda3\\lib\\site-packages\\ipykernel_launcher.py:13: DeprecationWarning: time.clock has been deprecated in Python 3.3 and will be removed from Python 3.8: use time.perf_counter or time.process_time instead\n",
      "  del sys.path[0]\n",
      "C:\\Users\\schillingdl\\AppData\\Local\\Continuum\\anaconda3\\lib\\site-packages\\ipykernel_launcher.py:15: DeprecationWarning: time.clock has been deprecated in Python 3.3 and will be removed from Python 3.8: use time.perf_counter or time.process_time instead\n",
      "  from ipykernel import kernelapp as app\n",
      "C:\\Users\\schillingdl\\AppData\\Local\\Continuum\\anaconda3\\lib\\site-packages\\ipykernel_launcher.py:18: DeprecationWarning: time.clock has been deprecated in Python 3.3 and will be removed from Python 3.8: use time.perf_counter or time.process_time instead\n",
      "C:\\Users\\schillingdl\\AppData\\Local\\Continuum\\anaconda3\\lib\\site-packages\\ipykernel_launcher.py:20: DeprecationWarning: time.clock has been deprecated in Python 3.3 and will be removed from Python 3.8: use time.perf_counter or time.process_time instead\n",
      "C:\\Users\\schillingdl\\AppData\\Local\\Continuum\\anaconda3\\lib\\site-packages\\ipykernel_launcher.py:23: DeprecationWarning: time.clock has been deprecated in Python 3.3 and will be removed from Python 3.8: use time.perf_counter or time.process_time instead\n",
      "C:\\Users\\schillingdl\\AppData\\Local\\Continuum\\anaconda3\\lib\\site-packages\\ipykernel_launcher.py:25: DeprecationWarning: time.clock has been deprecated in Python 3.3 and will be removed from Python 3.8: use time.perf_counter or time.process_time instead\n"
     ]
    }
   ],
   "source": [
    "n_trials = 10\n",
    "times_rand = [0,0,0,0]\n",
    "for i in range(n_trials):\n",
    "    random.shuffle(list100)\n",
    "    random.shuffle(list1000)\n",
    "    random.shuffle(list10000)\n",
    "    random.shuffle(list100000)\n",
    "    start = time.clock()\n",
    "    insertion_sort(list100)\n",
    "    end = time.clock()\n",
    "    elapsed = end - start\n",
    "    times_rand[0] += elapsed\n",
    "    start = time.clock()\n",
    "    insertion_sort(list1000)\n",
    "    end = time.clock()\n",
    "    elapsed = end - start\n",
    "    times_rand[1] += elapsed\n",
    "    start = time.clock()\n",
    "    insertion_sort(list10000)\n",
    "    end = time.clock()\n",
    "    elapsed = end - start\n",
    "    times_rand[2] += elapsed\n",
    "    start = time.clock()\n",
    "    insertion_sort(list100000)\n",
    "    end = time.clock()\n",
    "    elapsed = end - start\n",
    "    times_rand[3] += elapsed\n",
    "for i in range(0, len(times_rand)):\n",
    "    times_rand[i] /= n_trials\n",
    "    times_rand[i] = np.log10(times_rand[i])\n"
   ]
  },
  {
   "cell_type": "code",
   "execution_count": null,
   "metadata": {},
   "outputs": [
    {
     "name": "stderr",
     "output_type": "stream",
     "text": [
      "C:\\Users\\schillingdl\\AppData\\Local\\Continuum\\anaconda3\\lib\\site-packages\\ipykernel_launcher.py:7: DeprecationWarning: time.clock has been deprecated in Python 3.3 and will be removed from Python 3.8: use time.perf_counter or time.process_time instead\n",
      "  import sys\n",
      "C:\\Users\\schillingdl\\AppData\\Local\\Continuum\\anaconda3\\lib\\site-packages\\ipykernel_launcher.py:9: DeprecationWarning: time.clock has been deprecated in Python 3.3 and will be removed from Python 3.8: use time.perf_counter or time.process_time instead\n",
      "  if __name__ == '__main__':\n",
      "C:\\Users\\schillingdl\\AppData\\Local\\Continuum\\anaconda3\\lib\\site-packages\\ipykernel_launcher.py:12: DeprecationWarning: time.clock has been deprecated in Python 3.3 and will be removed from Python 3.8: use time.perf_counter or time.process_time instead\n",
      "  if sys.path[0] == '':\n",
      "C:\\Users\\schillingdl\\AppData\\Local\\Continuum\\anaconda3\\lib\\site-packages\\ipykernel_launcher.py:14: DeprecationWarning: time.clock has been deprecated in Python 3.3 and will be removed from Python 3.8: use time.perf_counter or time.process_time instead\n",
      "  \n",
      "C:\\Users\\schillingdl\\AppData\\Local\\Continuum\\anaconda3\\lib\\site-packages\\ipykernel_launcher.py:17: DeprecationWarning: time.clock has been deprecated in Python 3.3 and will be removed from Python 3.8: use time.perf_counter or time.process_time instead\n",
      "C:\\Users\\schillingdl\\AppData\\Local\\Continuum\\anaconda3\\lib\\site-packages\\ipykernel_launcher.py:19: DeprecationWarning: time.clock has been deprecated in Python 3.3 and will be removed from Python 3.8: use time.perf_counter or time.process_time instead\n",
      "C:\\Users\\schillingdl\\AppData\\Local\\Continuum\\anaconda3\\lib\\site-packages\\ipykernel_launcher.py:22: DeprecationWarning: time.clock has been deprecated in Python 3.3 and will be removed from Python 3.8: use time.perf_counter or time.process_time instead\n",
      "C:\\Users\\schillingdl\\AppData\\Local\\Continuum\\anaconda3\\lib\\site-packages\\ipykernel_launcher.py:24: DeprecationWarning: time.clock has been deprecated in Python 3.3 and will be removed from Python 3.8: use time.perf_counter or time.process_time instead\n"
     ]
    }
   ],
   "source": [
    "times_reverse = [0,0,0,0]\n",
    "for i in range(n_trials):\n",
    "    list.reverse(list100)\n",
    "    list.reverse(list1000)\n",
    "    list.reverse(list10000)\n",
    "    list.reverse(list100000)\n",
    "    start = time.clock()\n",
    "    insertion_sort(list100)\n",
    "    end = time.clock()\n",
    "    elapsed = end - start\n",
    "    times_reverse[0] += elapsed\n",
    "    start = time.clock()\n",
    "    insertion_sort(list1000)\n",
    "    end = time.clock()\n",
    "    elapsed = end - start\n",
    "    times_reverse[1] += elapsed\n",
    "    start = time.clock()\n",
    "    insertion_sort(list10000)\n",
    "    end = time.clock()\n",
    "    elapsed = end - start\n",
    "    times_reverse[2] += elapsed\n",
    "    start = time.clock()\n",
    "    insertion_sort(list100000)\n",
    "    end = time.clock()\n",
    "    elapsed = end - start\n",
    "    times_reverse[3] += elapsed\n",
    "for i in range(0, len(times_reverse)):\n",
    "    times_reverse[i] /= n_trials\n",
    "    times_reverse[i] = np.log10(times_reverse[i])"
   ]
  },
  {
   "cell_type": "code",
   "execution_count": null,
   "metadata": {},
   "outputs": [],
   "source": [
    "times_sort = [0,0,0,0]\n",
    "for i in range(n_trials):\n",
    "    list.sort(list100)\n",
    "    list.sort(list1000)\n",
    "    list.sort(list10000)\n",
    "    list.sort(list100000)\n",
    "    start = time.clock()\n",
    "    insertion_sort(list100)\n",
    "    end = time.clock()\n",
    "    elapsed = end - start\n",
    "    times_sort[0] += elapsed\n",
    "    start = time.clock()\n",
    "    insertion_sort(list1000)\n",
    "    end = time.clock()\n",
    "    elapsed = end - start\n",
    "    times_sort[1] += elapsed\n",
    "    start = time.clock()\n",
    "    insertion_sort(list10000)\n",
    "    end = time.clock()\n",
    "    elapsed = end - start\n",
    "    times_sort[2] += elapsed\n",
    "    start = time.clock()\n",
    "    insertion_sort(list100000)\n",
    "    end = time.clock()\n",
    "    elapsed = end - start\n",
    "    times_sort[3] += elapsed\n",
    "for i in range(0, len(times_sort)):\n",
    "    times_sort[i] /= n_trials\n",
    "    times_sort[i] = np.log10(times_sort[i])"
   ]
  },
  {
   "cell_type": "code",
   "execution_count": null,
   "metadata": {},
   "outputs": [],
   "source": [
    "x_vals = [100,1000,10000,100000]\n",
    "plt.plot(x_vals, times_rand, label=\"random\")\n",
    "plt.plot(x_vals, times_reverse, label=\"reverse\")\n",
    "plt.plot(x_vals, times_sort, label=\"sorted\")\n",
    "plt.ylabel('runtime log10')\n",
    "plt.xlabel('list length')\n",
    "plt.legend();\n",
    "plt.show()"
   ]
  }
 ],
 "metadata": {
  "kernelspec": {
   "display_name": "Python 3",
   "language": "python",
   "name": "python3"
  },
  "language_info": {
   "codemirror_mode": {
    "name": "ipython",
    "version": 3
   },
   "file_extension": ".py",
   "mimetype": "text/x-python",
   "name": "python",
   "nbconvert_exporter": "python",
   "pygments_lexer": "ipython3",
   "version": "3.7.3"
  }
 },
 "nbformat": 4,
 "nbformat_minor": 2
}
