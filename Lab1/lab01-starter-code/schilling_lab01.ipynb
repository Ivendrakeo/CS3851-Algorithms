{
 "cells": [
  {
   "cell_type": "markdown",
   "metadata": {},
   "source": [
    "CS 3851 - Algorithms Lab 1: Insertion Sort\n",
    "Draven Schilling\n",
    "3/13/20\n",
    "\n",
    "Introduction:\n",
    "In this lab we were to implement the insertion sort algorithm for sorting a list of integer types. We then verified the correct implementation of insertion sort by running the provided test suite against our algorithm. Once all tests past, we then benchmarked our implementation of insertion sort by comparing how long it takes to sort pre-sorted lists, randomly sorted lists, and reverse sorted lists. With sufficiently long list sizes and multiple trials, we averaged the results and graphed each of the three cases. As we can see with the results, both reverse and randomly sorted lists take about the same time to sort, with pre-sorted lists running significantly faster.\n",
    "\n",
    "Questions:\n",
    "    1. Were there any differences between the run times of the three cases? What inputs gave the best-, worst-, and average-case run times?\n",
    "    \n",
    "    We would expect the best case to be the pre-sorted lists, which was consistent with the results. In all the list length trials, the pre-sorted list ran much faster than the other two cases. We would then expect the random input to be the average case and the reverse sorted to be the worst case. The results agree by showing reverse sorted, on average, took the longest to complete. However, the time difference between randomly sorted and reverse sorted was not all that different. \n",
    "    \n",
    "    2. Why do you think the different inputs caused different run times? \n",
    "    \n",
    "    The efficiency analysis of insertion sort reveals that if the list is in presorted order, it becomes an O(n) operation because it only needs to traverse the inner loop once to determine that the next number is just being placed at the front of the already sorted sub-list. Conversely, with the randomly sorted and reverse sorted lists, the inner loop can run many more times which creates a O(n^2) runtime. This is why there is a significant gap between the runtime of the pre-sorted lists and those of randomly sorted and reverse sorted.\n",
    "    \n",
    "    3. Look up the best-, worst-, and average-case run times of insertion sort in big-oh notation and provide those. Are the formally determined run times consistent with your benchmarks?\n",
    "    \n",
    "    The formally determined big-oh runtimes are O(n) for best case, and O(n^2) for average-case and worst-case runtimes. This is consistent with the graphs because both the average (random) case and the worst (reverse) case are similar and are consistently much longer than the best (pre-sorted) case which is O(n). Therefore, the benchmarks are indeed consistent with the expected results.\n"
   ]
  },
  {
   "cell_type": "code",
   "execution_count": 70,
   "metadata": {},
   "outputs": [],
   "source": [
    "# First we import the required libraries\n",
    "from sorting import insertion_sort\n",
    "import matplotlib.pyplot as plt\n",
    "import numpy as np\n",
    "import random as rand\n",
    "import time"
   ]
  },
  {
   "cell_type": "code",
   "execution_count": 71,
   "metadata": {},
   "outputs": [],
   "source": [
    "# create the lists for 100, 1000, 10000, and 100000 elements\n",
    "list100 = []\n",
    "for i in range(0,100):\n",
    "    list100.append(random.random())\n",
    "list1000 = []\n",
    "for i in range(0,1000):\n",
    "    list1000.append(random.random())\n",
    "list10000 = []\n",
    "for i in range(0,10000):\n",
    "    list10000.append(random.random())\n",
    "list100000 = []\n",
    "for i in range(0,100000):\n",
    "    list100000.append(random.random())"
   ]
  },
  {
   "cell_type": "code",
   "execution_count": 72,
   "metadata": {},
   "outputs": [
    {
     "name": "stderr",
     "output_type": "stream",
     "text": [
      "C:\\Users\\schillingdl\\AppData\\Local\\Continuum\\anaconda3\\lib\\site-packages\\ipykernel_launcher.py:8: DeprecationWarning: time.clock has been deprecated in Python 3.3 and will be removed from Python 3.8: use time.perf_counter or time.process_time instead\n",
      "  \n",
      "C:\\Users\\schillingdl\\AppData\\Local\\Continuum\\anaconda3\\lib\\site-packages\\ipykernel_launcher.py:10: DeprecationWarning: time.clock has been deprecated in Python 3.3 and will be removed from Python 3.8: use time.perf_counter or time.process_time instead\n",
      "  # Remove the CWD from sys.path while we load stuff.\n",
      "C:\\Users\\schillingdl\\AppData\\Local\\Continuum\\anaconda3\\lib\\site-packages\\ipykernel_launcher.py:13: DeprecationWarning: time.clock has been deprecated in Python 3.3 and will be removed from Python 3.8: use time.perf_counter or time.process_time instead\n",
      "  del sys.path[0]\n",
      "C:\\Users\\schillingdl\\AppData\\Local\\Continuum\\anaconda3\\lib\\site-packages\\ipykernel_launcher.py:15: DeprecationWarning: time.clock has been deprecated in Python 3.3 and will be removed from Python 3.8: use time.perf_counter or time.process_time instead\n",
      "  from ipykernel import kernelapp as app\n",
      "C:\\Users\\schillingdl\\AppData\\Local\\Continuum\\anaconda3\\lib\\site-packages\\ipykernel_launcher.py:18: DeprecationWarning: time.clock has been deprecated in Python 3.3 and will be removed from Python 3.8: use time.perf_counter or time.process_time instead\n",
      "C:\\Users\\schillingdl\\AppData\\Local\\Continuum\\anaconda3\\lib\\site-packages\\ipykernel_launcher.py:20: DeprecationWarning: time.clock has been deprecated in Python 3.3 and will be removed from Python 3.8: use time.perf_counter or time.process_time instead\n",
      "C:\\Users\\schillingdl\\AppData\\Local\\Continuum\\anaconda3\\lib\\site-packages\\ipykernel_launcher.py:23: DeprecationWarning: time.clock has been deprecated in Python 3.3 and will be removed from Python 3.8: use time.perf_counter or time.process_time instead\n",
      "C:\\Users\\schillingdl\\AppData\\Local\\Continuum\\anaconda3\\lib\\site-packages\\ipykernel_launcher.py:25: DeprecationWarning: time.clock has been deprecated in Python 3.3 and will be removed from Python 3.8: use time.perf_counter or time.process_time instead\n"
     ]
    }
   ],
   "source": [
    "# Run 10 random sorts for each list length. Record the time taken and average the results (divide total time by 10) \n",
    "n_trials = 10\n",
    "times_rand = [0,0,0,0]\n",
    "for i in range(n_trials):\n",
    "    random.shuffle(list100)\n",
    "    random.shuffle(list1000)\n",
    "    random.shuffle(list10000)\n",
    "    random.shuffle(list100000)\n",
    "    start = time.clock()\n",
    "    insertion_sort(list100)\n",
    "    end = time.clock()\n",
    "    elapsed = end - start\n",
    "    times_rand[0] += elapsed\n",
    "    start = time.clock()\n",
    "    insertion_sort(list1000)\n",
    "    end = time.clock()\n",
    "    elapsed = end - start\n",
    "    times_rand[1] += elapsed\n",
    "    start = time.clock()\n",
    "    insertion_sort(list10000)\n",
    "    end = time.clock()\n",
    "    elapsed = end - start\n",
    "    times_rand[2] += elapsed\n",
    "    start = time.clock()\n",
    "    insertion_sort(list100000)\n",
    "    end = time.clock()\n",
    "    elapsed = end - start\n",
    "    times_rand[3] += elapsed\n",
    "for i in range(0, len(times_rand)):\n",
    "    times_rand[i] /= n_trials\n",
    "    times_rand[i] = np.log10(times_rand[i])\n"
   ]
  },
  {
   "cell_type": "code",
   "execution_count": 73,
   "metadata": {},
   "outputs": [
    {
     "name": "stderr",
     "output_type": "stream",
     "text": [
      "C:\\Users\\schillingdl\\AppData\\Local\\Continuum\\anaconda3\\lib\\site-packages\\ipykernel_launcher.py:7: DeprecationWarning: time.clock has been deprecated in Python 3.3 and will be removed from Python 3.8: use time.perf_counter or time.process_time instead\n",
      "  import sys\n",
      "C:\\Users\\schillingdl\\AppData\\Local\\Continuum\\anaconda3\\lib\\site-packages\\ipykernel_launcher.py:9: DeprecationWarning: time.clock has been deprecated in Python 3.3 and will be removed from Python 3.8: use time.perf_counter or time.process_time instead\n",
      "  if __name__ == '__main__':\n",
      "C:\\Users\\schillingdl\\AppData\\Local\\Continuum\\anaconda3\\lib\\site-packages\\ipykernel_launcher.py:12: DeprecationWarning: time.clock has been deprecated in Python 3.3 and will be removed from Python 3.8: use time.perf_counter or time.process_time instead\n",
      "  if sys.path[0] == '':\n",
      "C:\\Users\\schillingdl\\AppData\\Local\\Continuum\\anaconda3\\lib\\site-packages\\ipykernel_launcher.py:14: DeprecationWarning: time.clock has been deprecated in Python 3.3 and will be removed from Python 3.8: use time.perf_counter or time.process_time instead\n",
      "  \n",
      "C:\\Users\\schillingdl\\AppData\\Local\\Continuum\\anaconda3\\lib\\site-packages\\ipykernel_launcher.py:17: DeprecationWarning: time.clock has been deprecated in Python 3.3 and will be removed from Python 3.8: use time.perf_counter or time.process_time instead\n",
      "C:\\Users\\schillingdl\\AppData\\Local\\Continuum\\anaconda3\\lib\\site-packages\\ipykernel_launcher.py:19: DeprecationWarning: time.clock has been deprecated in Python 3.3 and will be removed from Python 3.8: use time.perf_counter or time.process_time instead\n",
      "C:\\Users\\schillingdl\\AppData\\Local\\Continuum\\anaconda3\\lib\\site-packages\\ipykernel_launcher.py:22: DeprecationWarning: time.clock has been deprecated in Python 3.3 and will be removed from Python 3.8: use time.perf_counter or time.process_time instead\n",
      "C:\\Users\\schillingdl\\AppData\\Local\\Continuum\\anaconda3\\lib\\site-packages\\ipykernel_launcher.py:24: DeprecationWarning: time.clock has been deprecated in Python 3.3 and will be removed from Python 3.8: use time.perf_counter or time.process_time instead\n"
     ]
    }
   ],
   "source": [
    "# Run 10 reverse sorts for each list length. Record the time taken and average the results (divide total time by 10) \n",
    "times_reverse = [0,0,0,0]\n",
    "for i in range(n_trials):\n",
    "    list.reverse(list100)\n",
    "    list.reverse(list1000)\n",
    "    list.reverse(list10000)\n",
    "    list.reverse(list100000)\n",
    "    start = time.clock()\n",
    "    insertion_sort(list100)\n",
    "    end = time.clock()\n",
    "    elapsed = end - start\n",
    "    times_reverse[0] += elapsed\n",
    "    start = time.clock()\n",
    "    insertion_sort(list1000)\n",
    "    end = time.clock()\n",
    "    elapsed = end - start\n",
    "    times_reverse[1] += elapsed\n",
    "    start = time.clock()\n",
    "    insertion_sort(list10000)\n",
    "    end = time.clock()\n",
    "    elapsed = end - start\n",
    "    times_reverse[2] += elapsed\n",
    "    start = time.clock()\n",
    "    insertion_sort(list100000)\n",
    "    end = time.clock()\n",
    "    elapsed = end - start\n",
    "    times_reverse[3] += elapsed\n",
    "for i in range(0, len(times_reverse)):\n",
    "    times_reverse[i] /= n_trials\n",
    "    times_reverse[i] = np.log10(times_reverse[i])"
   ]
  },
  {
   "cell_type": "code",
   "execution_count": 74,
   "metadata": {},
   "outputs": [
    {
     "name": "stderr",
     "output_type": "stream",
     "text": [
      "C:\\Users\\schillingdl\\AppData\\Local\\Continuum\\anaconda3\\lib\\site-packages\\ipykernel_launcher.py:7: DeprecationWarning: time.clock has been deprecated in Python 3.3 and will be removed from Python 3.8: use time.perf_counter or time.process_time instead\n",
      "  import sys\n",
      "C:\\Users\\schillingdl\\AppData\\Local\\Continuum\\anaconda3\\lib\\site-packages\\ipykernel_launcher.py:9: DeprecationWarning: time.clock has been deprecated in Python 3.3 and will be removed from Python 3.8: use time.perf_counter or time.process_time instead\n",
      "  if __name__ == '__main__':\n",
      "C:\\Users\\schillingdl\\AppData\\Local\\Continuum\\anaconda3\\lib\\site-packages\\ipykernel_launcher.py:12: DeprecationWarning: time.clock has been deprecated in Python 3.3 and will be removed from Python 3.8: use time.perf_counter or time.process_time instead\n",
      "  if sys.path[0] == '':\n",
      "C:\\Users\\schillingdl\\AppData\\Local\\Continuum\\anaconda3\\lib\\site-packages\\ipykernel_launcher.py:14: DeprecationWarning: time.clock has been deprecated in Python 3.3 and will be removed from Python 3.8: use time.perf_counter or time.process_time instead\n",
      "  \n",
      "C:\\Users\\schillingdl\\AppData\\Local\\Continuum\\anaconda3\\lib\\site-packages\\ipykernel_launcher.py:17: DeprecationWarning: time.clock has been deprecated in Python 3.3 and will be removed from Python 3.8: use time.perf_counter or time.process_time instead\n",
      "C:\\Users\\schillingdl\\AppData\\Local\\Continuum\\anaconda3\\lib\\site-packages\\ipykernel_launcher.py:19: DeprecationWarning: time.clock has been deprecated in Python 3.3 and will be removed from Python 3.8: use time.perf_counter or time.process_time instead\n",
      "C:\\Users\\schillingdl\\AppData\\Local\\Continuum\\anaconda3\\lib\\site-packages\\ipykernel_launcher.py:22: DeprecationWarning: time.clock has been deprecated in Python 3.3 and will be removed from Python 3.8: use time.perf_counter or time.process_time instead\n",
      "C:\\Users\\schillingdl\\AppData\\Local\\Continuum\\anaconda3\\lib\\site-packages\\ipykernel_launcher.py:24: DeprecationWarning: time.clock has been deprecated in Python 3.3 and will be removed from Python 3.8: use time.perf_counter or time.process_time instead\n"
     ]
    }
   ],
   "source": [
    "# Run 10 pre-sorted sorts for each list length. Record the time taken and average the results (divide total time by 10) \n",
    "times_sort = [0,0,0,0]\n",
    "for i in range(n_trials):\n",
    "    list.sort(list100)\n",
    "    list.sort(list1000)\n",
    "    list.sort(list10000)\n",
    "    list.sort(list100000)\n",
    "    start = time.clock()\n",
    "    insertion_sort(list100)\n",
    "    end = time.clock()\n",
    "    elapsed = end - start\n",
    "    times_sort[0] += elapsed\n",
    "    start = time.clock()\n",
    "    insertion_sort(list1000)\n",
    "    end = time.clock()\n",
    "    elapsed = end - start\n",
    "    times_sort[1] += elapsed\n",
    "    start = time.clock()\n",
    "    insertion_sort(list10000)\n",
    "    end = time.clock()\n",
    "    elapsed = end - start\n",
    "    times_sort[2] += elapsed\n",
    "    start = time.clock()\n",
    "    insertion_sort(list100000)\n",
    "    end = time.clock()\n",
    "    elapsed = end - start\n",
    "    times_sort[3] += elapsed\n",
    "for i in range(0, len(times_sort)):\n",
    "    times_sort[i] /= n_trials\n",
    "    times_sort[i] = np.log10(times_sort[i])"
   ]
  },
  {
   "cell_type": "code",
   "execution_count": 79,
   "metadata": {},
   "outputs": [
    {
     "data": {
      "image/png": "[encoded data removed]",
      "text/plain": [
       "<Figure size 432x288 with 1 Axes>"
      ]
     },
     "metadata": {
      "needs_background": "light"
     },
     "output_type": "display_data"
    }
   ],
   "source": [
    "# Create plots for each pre-sorted type at each list length increment \n",
    "# with log10(runtime) on the y axis and list length on the x\n",
    "x_vals = [100,1000,10000,100000]\n",
    "plt.plot(x_vals, times_rand, label=\"random\")\n",
    "plt.plot(x_vals, times_reverse, label=\"reverse\")\n",
    "plt.plot(x_vals, times_sort, label=\"sorted\")\n",
    "plt.ylabel('runtime log10')\n",
    "plt.xlabel('list length')\n",
    "plt.title('runtime log10 vs list length')\n",
    "plt.legend();\n",
    "plt.show()"
   ]
  },
  {
   "cell_type": "code",
   "execution_count": 80,
   "metadata": {},
   "outputs": [
    {
     "data": {
      "image/png": "[encoded data removed]",
      "text/plain": [
       "<Figure size 432x288 with 1 Axes>"
      ]
     },
     "metadata": {
      "needs_background": "light"
     },
     "output_type": "display_data"
    }
   ],
   "source": [
    "# Create plots for each pre-sorted type at each list length increment \n",
    "# with log10(runtime) on the y axis and log10(list length) on the x\n",
    "logx_vals = [np.log10(100),np.log10(1000),np.log10(10000),np.log10(100000)]\n",
    "plt.plot(logx_vals, times_rand, label=\"random\")\n",
    "plt.plot(logx_vals, times_reverse, label=\"reverse\")\n",
    "plt.plot(logx_vals, times_sort, label=\"sorted\")\n",
    "plt.ylabel('runtime log10')\n",
    "plt.xlabel('list length log10')\n",
    "plt.title('runtime log10 vs list length log10')\n",
    "plt.legend();\n",
    "plt.show()"
   ]
  }
 ],
 "metadata": {
  "kernelspec": {
   "display_name": "Python 3",
   "language": "python",
   "name": "python3"
  },
  "language_info": {
   "codemirror_mode": {
    "name": "ipython",
    "version": 3
   },
   "file_extension": ".py",
   "mimetype": "text/x-python",
   "name": "python",
   "nbconvert_exporter": "python",
   "pygments_lexer": "ipython3",
   "version": "3.7.3"
  }
 },
 "nbformat": 4,
 "nbformat_minor": 2
}
